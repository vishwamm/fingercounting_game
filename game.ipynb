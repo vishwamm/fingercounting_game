{
 "cells": [
  {
   "cell_type": "code",
   "execution_count": 1,
   "metadata": {},
   "outputs": [],
   "source": [
    "import cv2\n",
    "import mediapipe as mp \n",
    "import time\n",
    "import os\n",
    "import handtrackingmodule as htm\n"
   ]
  },
  {
   "cell_type": "code",
   "execution_count": 2,
   "metadata": {},
   "outputs": [],
   "source": [
    "images='fingers'\n",
    "mylist=os.listdir(images)\n",
    "#print(mylist)\n",
    "overlay=[]\n",
    "for imgpath in mylist:\n",
    "    image=cv2.imread(f'{images}/{imgpath}')\n",
    "    overlay.append(image)\n"
   ]
  },
  {
   "cell_type": "code",
   "execution_count": 3,
   "metadata": {},
   "outputs": [],
   "source": [
    "wcam,hcam=750,750\n",
    "ctime=0\n",
    "ptime=0\n",
    "detector=htm.handdetector()\n",
    "cap=cv2.VideoCapture(0)\n",
    "cap.set(3,wcam)\n",
    "cap.set(4,hcam)\n",
    "tipids=[4,8,12,16,20]\n",
    "while True:\n",
    "    success,img=cap.read()\n",
    "    img=detector.findHands(img,draw=True)\n",
    "    lmlist=detector.findposition(img,draw=False)\n",
    "    if len(lmlist)!=0:\n",
    "        fingers=[]\n",
    "        if lmlist[tipids[0]][1]>lmlist[tipids[0]-1][1]:\n",
    "                fingers.append('1')\n",
    "        else:\n",
    "            fingers.append('0')\n",
    "        for id in range(1,5):\n",
    "            if lmlist[tipids[id]][2]<lmlist[tipids[id]-2][2]:\n",
    "                fingers.append('1')\n",
    "            else:\n",
    "                fingers.append('0')\n",
    "        totalfingers=fingers.count('1')\n",
    "        h,w,c=overlay[totalfingers-1].shape\n",
    "        img[0:h,0:w]=overlay[totalfingers-1]\n",
    "        cv2.rectangle(img,(20,225),(170,425),(0,255,0),cv2.FILLED)\n",
    "        cv2.putText(img,str(totalfingers),(45,375),cv2.FONT_HERSHEY_PLAIN,10,(255,0,0),25)\n",
    "\n",
    "\n",
    "    ctime=time.time()\n",
    "    fps=1/(ctime-ptime)\n",
    "    ptime=ctime\n",
    "    cv2.putText(img,f\"FPS:{int(fps)}\",(475,30),cv2.FONT_HERSHEY_PLAIN,2,(255,0,0),2)\n",
    "    cv2.imshow('img',img)\n",
    "    cv2.waitKey(1)"
   ]
  },
  {
   "cell_type": "code",
   "execution_count": null,
   "metadata": {},
   "outputs": [],
   "source": []
  }
 ],
 "metadata": {
  "kernelspec": {
   "display_name": "computervision",
   "language": "python",
   "name": "python3"
  },
  "language_info": {
   "codemirror_mode": {
    "name": "ipython",
    "version": 3
   },
   "file_extension": ".py",
   "mimetype": "text/x-python",
   "name": "python",
   "nbconvert_exporter": "python",
   "pygments_lexer": "ipython3",
   "version": "3.9.19"
  }
 },
 "nbformat": 4,
 "nbformat_minor": 2
}
